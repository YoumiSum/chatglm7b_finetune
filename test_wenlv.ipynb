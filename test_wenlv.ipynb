{
 "cells": [
  {
   "cell_type": "code",
   "execution_count": 5,
   "id": "7e580529-76a7-4792-b0a7-2ab019207b91",
   "metadata": {},
   "outputs": [
    {
     "name": "stderr",
     "output_type": "stream",
     "text": [
      "Explicitly passing a `revision` is encouraged when loading a model with custom code to ensure no malicious code has been contributed in a newer revision.\n",
      "Explicitly passing a `revision` is encouraged when loading a configuration with custom code to ensure no malicious code has been contributed in a newer revision.\n",
      "Explicitly passing a `revision` is encouraged when loading a model with custom code to ensure no malicious code has been contributed in a newer revision.\n"
     ]
    },
    {
     "data": {
      "application/vnd.jupyter.widget-view+json": {
       "model_id": "1de3cea0659444058b0f5b2d137c9613",
       "version_major": 2,
       "version_minor": 0
      },
      "text/plain": [
       "Loading checkpoint shards:   0%|          | 0/3 [00:00<?, ?it/s]"
      ]
     },
     "metadata": {},
     "output_type": "display_data"
    }
   ],
   "source": [
    "\n",
    "from transformers import AutoTokenizer, AutoModel\n",
    "#分词器 仍然用原生的\n",
    "tokenizer = AutoTokenizer.from_pretrained(\"/root/autodl-tmp/models/ChatGLM-6B\", trust_remote_code=True)\n",
    "#加载训练好的模型模型\n",
    "#model = AutoModel.from_pretrained(\"chatglm-6b-freeze\", trust_remote_code=True).cuda()\n",
    "model = AutoModel.from_pretrained(\"/root/autodl-tmp/sources/01/chatglm-6b-freeze\", trust_remote_code=True).cuda() \n",
    "# model.quantize(4)\n",
    "#import torch\n",
    "#torch.cuda.empty_cache()"
   ]
  },
  {
   "cell_type": "code",
   "execution_count": 7,
   "id": "ebd3d956-478c-409f-a750-24bfa7dc026e",
   "metadata": {},
   "outputs": [],
   "source": [
    "model = model.half()"
   ]
  },
  {
   "cell_type": "code",
   "execution_count": 10,
   "id": "cfd77a61-dc14-4af0-a233-eed556e73aee",
   "metadata": {},
   "outputs": [
    {
     "name": "stdout",
     "output_type": "stream",
     "text": [
      "从九江到云南版纳有多种自驾游路线可以选择，以下是其中一条较为常用的路线：\n",
      "\n",
      "1. 从九江出发，乘坐高速列车或长途客车到达昆明。昆明是中国\n"
     ]
    }
   ],
   "source": [
    "inp = \"自驾游从九江到云南版纳怎么走?\"\n",
    "response, history = model.chat(tokenizer, inp, history=[],max_length=250)\n",
    "print(response)"
   ]
  },
  {
   "cell_type": "code",
   "execution_count": null,
   "id": "cedcd00f-1196-42cb-867a-2565da6eaa70",
   "metadata": {},
   "outputs": [],
   "source": []
  }
 ],
 "metadata": {
  "kernelspec": {
   "display_name": "Python 3 (ipykernel)",
   "language": "python",
   "name": "python3"
  },
  "language_info": {
   "codemirror_mode": {
    "name": "ipython",
    "version": 3
   },
   "file_extension": ".py",
   "mimetype": "text/x-python",
   "name": "python",
   "nbconvert_exporter": "python",
   "pygments_lexer": "ipython3",
   "version": "3.10.8"
  }
 },
 "nbformat": 4,
 "nbformat_minor": 5
}
